{
 "cells": [
  {
   "cell_type": "markdown",
   "id": "ac2cfafa",
   "metadata": {},
   "source": [
    "# LangChain: Models, Prompts and Output Parsers\n",
    "\n",
    "\n",
    "## Outline\n",
    "\n",
    " * Direct API calls to OpenAI\n",
    " * API calls through LangChain:\n",
    "   * Prompts\n",
    "   * Models\n",
    "   * Output parsers"
   ]
  },
  {
   "cell_type": "markdown",
   "id": "34e51cb3",
   "metadata": {},
   "source": [
    "## Get your [OpenAI API Key](https://platform.openai.com/account/api-keys)"
   ]
  },
  {
   "cell_type": "code",
   "execution_count": null,
   "id": "bb0ce77b",
   "metadata": {},
   "outputs": [],
   "source": [
    "#!pip show python-dotenv\n",
    "#!pip show openai"
   ]
  },
  {
   "cell_type": "code",
   "execution_count": null,
   "id": "7f177ad1",
   "metadata": {},
   "outputs": [],
   "source": [
    "import os\n",
    "from openai import OpenAI\n",
    "\n",
    "from dotenv import load_dotenv, find_dotenv\n",
    "_ = load_dotenv(find_dotenv()) # read local .env file\n",
    "#openai.api_key = \"X\" #os.environ['OPENAI_API_KEY']\n",
    "client = OpenAI(api_key='X')\n",
    "print(client.api_key)"
   ]
  },
  {
   "cell_type": "markdown",
   "id": "c6de1657",
   "metadata": {},
   "source": [
    "## Chat API : OpenAI\n",
    "\n",
    "Let's start with a direct API calls to OpenAI."
   ]
  },
  {
   "cell_type": "code",
   "execution_count": null,
   "id": "b5d5356f",
   "metadata": {},
   "outputs": [],
   "source": [
    "def get_completion(prompt, model=\"gpt-4-1106-preview\"):\n",
    "    messages = [{\"role\":\"user\", \"content\":prompt}]\n",
    "    response = client.chat.completions.create(\n",
    "        model=model,\n",
    "        messages=messages,\n",
    "        temperature=0\n",
    "    )\n",
    "    response_message = response.choices[0].message.content\n",
    "    print(response_message)\n",
    "    return response_message"
   ]
  },
  {
   "cell_type": "code",
   "execution_count": null,
   "id": "4304836d",
   "metadata": {},
   "outputs": [],
   "source": [
    "def get_completion(prompt, model=\"gpt-4-1106-preview\"):\n",
    "    #GPT_MODEL = \"gpt-4-1106-preview\" #\"gpt-3.5-turbo-1106\"\n",
    "    messages = [{\"role\": \"user\", \"content\": prompt}]\n",
    "    response = client.chat.completions.create(\n",
    "        model=model,\n",
    "        messages=messages,\n",
    "        temperature=0, \n",
    "    )\n",
    "    response_message = response.choices[0].message.content\n",
    "    print(response_message )\n",
    "    return response_message\n",
    "    #return response.choices[0].message[\"content\"]\n"
   ]
  },
  {
   "cell_type": "code",
   "execution_count": null,
   "id": "b30f61d6",
   "metadata": {},
   "outputs": [],
   "source": [
    "get_completion(\"What is 1+1?\")"
   ]
  },
  {
   "cell_type": "code",
   "execution_count": null,
   "id": "f1e6c1d7",
   "metadata": {},
   "outputs": [],
   "source": [
    "customer_email = \"\"\"\n",
    "Arrr, I be fuming that me blender lid \\\n",
    "flew off and splattered me kitchen walls \\\n",
    "with smoothie! And to make matters worse,\\\n",
    "the warranty don't cover the cost of \\\n",
    "cleaning up me kitchen. I need yer help \\\n",
    "right now, matey!\n",
    "\"\"\""
   ]
  },
  {
   "cell_type": "code",
   "execution_count": null,
   "id": "db7e6032",
   "metadata": {},
   "outputs": [],
   "source": [
    "style = \"\"\"Mexican spanish \\\n",
    "in a calm and respectful tone\n",
    "\"\"\""
   ]
  },
  {
   "cell_type": "code",
   "execution_count": null,
   "id": "7f480992",
   "metadata": {},
   "outputs": [],
   "source": [
    "prompt = f\"\"\"Translate the text \\\n",
    "that is delimited by triple backticks \n",
    "into a style that is {style}.\n",
    "text: ```{customer_email}```\n",
    "\"\"\"\n",
    "\n",
    "print(prompt)\n",
    "response = get_completion(prompt)"
   ]
  },
  {
   "cell_type": "markdown",
   "id": "d7312ee3",
   "metadata": {},
   "source": [
    "## Chat API : LangChain\n",
    "\n",
    "Let's try how we can do the same using LangChain."
   ]
  },
  {
   "cell_type": "code",
   "execution_count": null,
   "id": "8c968414",
   "metadata": {},
   "outputs": [],
   "source": [
    "#OLD %pip install --upgrade langchain\n",
    "%pip install -U langchain-openai"
   ]
  },
  {
   "cell_type": "markdown",
   "id": "47a953fb",
   "metadata": {},
   "source": [
    "### Model"
   ]
  },
  {
   "cell_type": "code",
   "execution_count": null,
   "id": "b41269d3",
   "metadata": {},
   "outputs": [],
   "source": [
    "#OLD from langchain.chat_models import ChatOpenAI\n",
    "from langchain_openai import ChatOpenAI\n",
    "\n",
    "# To control the randomness and creativity of the generated\n",
    "# text by an LLM, use temperature = 0.0,  COLDER = LOWER, Less Creative  WARMER = HIGHER. More Creative\n",
    "chat = ChatOpenAI(temperature=0.8)\n",
    "chat"
   ]
  },
  {
   "cell_type": "markdown",
   "id": "e7e7c0d5",
   "metadata": {},
   "source": [
    "### Prompt template"
   ]
  },
  {
   "cell_type": "code",
   "execution_count": null,
   "id": "68b6b366",
   "metadata": {},
   "outputs": [],
   "source": [
    "style = \"\"\"Mexican spanish \\\n",
    "in a calm and respectful tone\n",
    "\"\"\"\n",
    "\n",
    "text = \"\"\"\n",
    "Arrr, I be fuming that me blender lid \\\n",
    "flew off and splattered me kitchen walls \\\n",
    "with smoothie! And to make matters worse,\\\n",
    "the warranty don't cover the cost of \\\n",
    "cleaning up me kitchen. I need yer help \\\n",
    "right now, matey!\n",
    "\"\"\"\n",
    "\n",
    "template_string = \"\"\"Translate the text \\\n",
    "that is delimited by triple backticks \\\n",
    "into a style that is {style}. \\\n",
    "text: ```{text}```\n",
    "\"\"\"\n",
    "\n",
    "from langchain.prompts import ChatPromptTemplate\n",
    "\n",
    "prompt_template = ChatPromptTemplate.from_template(template_string)\n",
    "print(prompt_template)\n",
    "#ABOVE gets translated to :\n",
    "#prompt = PromptTemplate(input_variables=['style', 'text'], template='Translate the text that is delimited by triple backticks into a style that is {style}. text: ```{text}```\\n')\n",
    "#         ['style', 'text']\n",
    "\n",
    "#print(prompt_template.messages[0].prompt)\n",
    "#print(prompt_template.messages[0].prompt.input_variables)\n",
    "\n",
    "# OTHER EXAMPLES\n",
    "#from langchain_core.prompts import ChatPromptTemplate\n",
    "#\n",
    "#        template = ChatPromptTemplate.from_messages([\n",
    "#            (\"system\", \"You are a helpful AI bot. Your name is {name}.\"),\n",
    "#            (\"human\", \"Hello, how are you doing?\"),\n",
    "#            (\"ai\", \"I'm doing well, thanks!\"),\n",
    "#            (\"human\", \"{user_input}\"),\n",
    "#        ])\n",
    "#\n",
    "#        messages = template.format_messages(\n",
    "#            name=\"Bob\",\n",
    "#            user_input=\"What is your name?\" )\n",
    "\n",
    "#from langchain import PromptTemplate\n",
    "#\n",
    "#template = \"\"\"Question: {question}\n",
    "#\n",
    "#Let's think step by step.\n",
    "#\n",
    "#Answer: \"\"\"\n",
    "#\n",
    "#prompt = PromptTemplate(template=template, input_variables=[\"question\"])\n",
    "#prompt.format(question=\"Can Barack Obama have a conversation with George Washington?\")"
   ]
  },
  {
   "cell_type": "code",
   "execution_count": null,
   "id": "abedd317",
   "metadata": {},
   "outputs": [],
   "source": [
    "customer_style = \"\"\"American English \\\n",
    "in a calm and respectful tone\n",
    "\"\"\""
   ]
  },
  {
   "cell_type": "code",
   "execution_count": null,
   "id": "f362e2f5",
   "metadata": {},
   "outputs": [],
   "source": [
    "customer_email = \"\"\"\n",
    "Arrr, I be fuming that me blender lid \\\n",
    "flew off and splattered me kitchen walls \\\n",
    "with smoothie! And to make matters worse, \\\n",
    "the warranty don't cover the cost of \\\n",
    "cleaning up me kitchen. I need yer help \\\n",
    "right now, matey!\n",
    "\"\"\""
   ]
  },
  {
   "cell_type": "code",
   "execution_count": null,
   "id": "aa026b41",
   "metadata": {},
   "outputs": [],
   "source": [
    "def format_messages(messages):\n",
    "    \"\"\"\n",
    "    Formats messages for the language model prompt.\n",
    "    \"\"\"\n",
    "    formatted_messages = []\n",
    "    for message in messages:\n",
    "        style = message[\"style\"]\n",
    "        text = message[\"text\"]\n",
    "        formatted_messages.append(f\"{style}: {text}\")\n",
    "    return \"\\n\".join(formatted_messages)"
   ]
  },
  {
   "cell_type": "code",
   "execution_count": null,
   "id": "39f7d51f",
   "metadata": {},
   "outputs": [],
   "source": [
    "conversation = [\n",
    "        {\"style\": customer_style, \"text\": customer_email}\n",
    "    ]"
   ]
  },
  {
   "cell_type": "code",
   "execution_count": null,
   "id": "66f04fc5",
   "metadata": {},
   "outputs": [],
   "source": [
    "print(format_messages(conversation))"
   ]
  },
  {
   "cell_type": "code",
   "execution_count": null,
   "id": "9d8bf1e1",
   "metadata": {},
   "outputs": [],
   "source": [
    "#customer_messages = prompt_template.format_messages(\n",
    "#                    style=customer_style,\n",
    "#                    text=customer_email)\n",
    "#print(customer_messages)\n",
    "\n",
    "\n",
    "bookTemplate_string = \"\"\"Create a summary of the book \\\n",
    "passed by triple backticks. \\\n",
    "text: ```{name} {place}```\n",
    "\"\"\"\n",
    "prompt_bookTemplate = ChatPromptTemplate.from_template(bookTemplate_string)\n",
    "print(prompt_bookTemplate.messages)\n",
    "# Calling the method with keyword arguments to replace placeholders\n",
    "#   keyword arguments to use for filling in template variables\n",
    "#   in all the template messages in this chat template.\n",
    "styled_book_message = prompt_bookTemplate.format_messages(name=\"Alice\", place=\"In Wonderland\")\n",
    "print(styled_book_message)\n",
    "styled_book_message[0].content\n",
    "\n"
   ]
  },
  {
   "cell_type": "code",
   "execution_count": null,
   "id": "bf3a1b77",
   "metadata": {},
   "outputs": [],
   "source": [
    "#print(type(customer_messages))\n",
    "#print(type(customer_messages[0]))\n",
    "#print(customer_messages[0])\n",
    "\n",
    "msgs= format_messages(conversation)\n",
    "\n",
    "response = client.chat.completions.create(\n",
    "    model=\"gpt-4-1106-preview\",  # Choose the appropriate engine for your needs\n",
    "    messages=[{\"role\": \"system\", \"content\": \"You are an assistant that remembers users.\"}],\n",
    "    max_tokens=150,  # Adjust based on how long you expect the response to be\n",
    "    temperature=0.8,  # Adjust to control the randomness of the response\n",
    "    top_p=1,\n",
    "    frequency_penalty=0,\n",
    "    presence_penalty=0\n",
    ")\n",
    "\n",
    "#print(response.choices)\n",
    "print(response.choices[0].finish_reason)\n",
    "print(response.choices[0].message)\n",
    "\n",
    "#USING A STYLE\n",
    "response = client.chat.completions.create(\n",
    "    model=\"gpt-4-1106-preview\",  # Choose the appropriate engine for your needs\n",
    "    messages=[\n",
    "        {\"role\": \"system\", \"content\": \"You are an AI trained to assist with customer service inquiries.\"},\n",
    "        {\"role\": \"user\", \"content\": styled_book_message[0].content}\n",
    "    ],\n",
    "    max_tokens=150,  # Adjust based on how long you expect the response to be\n",
    "    temperature=0.8,  # Adjust to control the randomness of the response\n",
    "    top_p=1,\n",
    "    frequency_penalty=0,\n",
    "    presence_penalty=0\n",
    ")\n",
    "print(response.choices[0].finish_reason)\n",
    "print(response.choices[0].message)\n",
    "\n",
    "#\n",
    "#                    \"messages\": messages,\n",
    "#                    \"model\": model,\n",
    "#                    \"frequency_penalty\": frequency_penalty,\n",
    "#                    \"function_call\": function_call,\n",
    "#                    \"functions\": functions,\n",
    "#                    \"logit_bias\": logit_bias,\n",
    "#                    \"logprobs\": logprobs,\n",
    "#                    \"max_tokens\": max_tokens,\n",
    "#                    \"n\": n,\n",
    "#                    \"presence_penalty\": presence_penalty,\n",
    "#                    \"response_format\": response_format,\n",
    "#                    \"seed\": seed,\n",
    "#                    \"stop\": stop,\n",
    "#                    \"stream\": stream,\n",
    "#                    \"temperature\": temperature,\n",
    "#                    \"tool_choice\": tool_choice,\n",
    "#                    \"tools\": tools,\n",
    "#                    \"top_logprobs\": top_logprobs,\n",
    "#                    \"top_p\": top_p,\n",
    "#                    \"user\": user,\n",
    "#"
   ]
  },
  {
   "cell_type": "code",
   "execution_count": null,
   "id": "df2c1ce9",
   "metadata": {},
   "outputs": [],
   "source": [
    "service_reply = \"\"\"Hey there customer, \\\n",
    "the warranty does not cover \\\n",
    "cleaning expenses for your kitchen \\\n",
    "because it's your fault that \\\n",
    "you misused your blender \\\n",
    "by forgetting to put the lid on before \\\n",
    "starting the blender. \\\n",
    "Tough luck! See ya!\n",
    "\"\"\""
   ]
  },
  {
   "cell_type": "code",
   "execution_count": null,
   "id": "9b79186e",
   "metadata": {},
   "outputs": [],
   "source": [
    "service_style_pirate = \"\"\"\\\n",
    "a polite tone \\\n",
    "that speaks in English Pirate\\\n",
    "\"\"\""
   ]
  },
  {
   "cell_type": "code",
   "execution_count": null,
   "id": "05bcaf67",
   "metadata": {},
   "outputs": [],
   "source": [
    "service_messages = prompt_template.format_messages(\n",
    "    style=service_style_pirate,\n",
    "    text=service_reply)\n",
    "\n",
    "print(service_messages[0].content)"
   ]
  },
  {
   "cell_type": "code",
   "execution_count": null,
   "id": "9c15ab5d",
   "metadata": {},
   "outputs": [],
   "source": [
    "service_response = client.chat.completions.create(\n",
    "    model=\"gpt-4-1106-preview\",  # Choose the appropriate engine for your needs\n",
    "    messages=[\n",
    "        {\"role\": \"system\", \"content\": \"You are an AI trained to assist with customer service inquiries.\"},\n",
    "        {\"role\": \"user\", \"content\": service_messages[0].content}\n",
    "    ])\n",
    "\n",
    "print(service_response.choices[0].finish_reason)\n",
    "print(service_response.choices[0].message)"
   ]
  },
  {
   "cell_type": "markdown",
   "id": "7b61c793",
   "metadata": {},
   "source": [
    "## Output Parsers\n",
    "\n",
    "Let's start with defining how we would like the LLM output to look like:"
   ]
  },
  {
   "cell_type": "code",
   "execution_count": null,
   "id": "0ba23e89",
   "metadata": {},
   "outputs": [],
   "source": [
    "{\n",
    "  \"gift\": False,\n",
    "  \"delivery_days\": 5,\n",
    "  \"price_value\": \"pretty affordable!\"\n",
    "}"
   ]
  },
  {
   "cell_type": "code",
   "execution_count": null,
   "id": "fd15df16",
   "metadata": {},
   "outputs": [],
   "source": [
    "from langchain.prompts import ChatPromptTemplate\n",
    "\n",
    "customer_review = \"\"\"\\\n",
    "This leaf blower is pretty amazing.  It has four settings:\\\n",
    "candle blower, gentle breeze, windy city, and tornado. \\\n",
    "It arrived in two days, just in time for my wife's \\\n",
    "anniversary present. \\\n",
    "I think my wife liked it so much she was speechless. \\\n",
    "So far I've been the only one using it, and I've been \\\n",
    "using it every other morning to clear the leaves on our lawn. \\\n",
    "It's slightly more expensive than the other leaf blowers \\\n",
    "out there, but I think it's worth it for the extra features.\n",
    "\"\"\"\n",
    "\n",
    "review_template = \"\"\"\\\n",
    "For the following text, extract the following information:\n",
    "\n",
    "gift: Was the item purchased as a gift for someone else? \\\n",
    "Answer True if yes, False if not or unknown.\n",
    "\n",
    "delivery_days: How many days did it take for the product \\\n",
    "to arrive? If this information is not found, output -1.\n",
    "\n",
    "price_value: Extract any sentences about the value or price,\\\n",
    "and output them as a comma separated Python list.\n",
    "\n",
    "Format the output as JSON with the following keys:\n",
    "gift\n",
    "delivery_days\n",
    "price_value\n",
    "\n",
    "text: {text}\n",
    "\"\"\"\n",
    "\n",
    "prompt_template = ChatPromptTemplate.from_template(review_template)\n",
    "print(prompt_template)\n",
    "\n",
    "review_message = prompt_template.format_messages(text=customer_review)\n",
    "print(review_message[0].content)\n",
    "\n",
    "review_response = client.chat.completions.create(\n",
    "    model=\"gpt-4-1106-preview\",  # Choose the appropriate engine for your needs\n",
    "    messages=[\n",
    "        {\"role\": \"system\", \"content\": \"You are an AI trained to assist with customer service inquiries.\"},\n",
    "        {\"role\": \"user\", \"content\": review_message[0].content}\n",
    "    ])\n",
    "\n",
    "print(review_response.choices[0].finish_reason)\n",
    "print(review_response.choices[0].message)\n",
    "\n",
    "# You will get an error by running this line of code \n",
    "# because'gift' is not a dictionary\n",
    "#'gift' is a string\n",
    "content = review_response.choices[0].message.dict\n",
    "print(content)"
   ]
  },
  {
   "cell_type": "markdown",
   "id": "6f382e9b",
   "metadata": {},
   "source": [
    "### Parse the LLM output string into a Python dictionary"
   ]
  },
  {
   "cell_type": "code",
   "execution_count": 154,
   "id": "01ddfa06",
   "metadata": {},
   "outputs": [],
   "source": [
    "from langchain.output_parsers import ResponseSchema\n",
    "from langchain.output_parsers import StructuredOutputParser"
   ]
  },
  {
   "cell_type": "code",
   "execution_count": 155,
   "id": "ac3f59ef",
   "metadata": {},
   "outputs": [],
   "source": [
    "gift_schema = ResponseSchema(name=\"gift\",\n",
    "                             description=\"Was the item purchased\\\n",
    "                             as a gift for someone else? \\\n",
    "                             Answer True if yes,\\\n",
    "                             False if not or unknown.\")\n",
    "delivery_days_schema = ResponseSchema(name=\"delivery_days\",\n",
    "                                      description=\"How many days\\\n",
    "                                      did it take for the product\\\n",
    "                                      to arrive? If this \\\n",
    "                                      information is not found,\\\n",
    "                                      output -1.\")\n",
    "price_value_schema = ResponseSchema(name=\"price_value\",\n",
    "                                    description=\"Extract any\\\n",
    "                                    sentences about the value or \\\n",
    "                                    price, and output them as a \\\n",
    "                                    comma separated Python list.\")\n",
    "\n",
    "response_schemas = [gift_schema, \n",
    "                    delivery_days_schema,\n",
    "                    price_value_schema]"
   ]
  },
  {
   "cell_type": "code",
   "execution_count": 156,
   "id": "f5f564cc",
   "metadata": {},
   "outputs": [],
   "source": [
    "output_parser = StructuredOutputParser.from_response_schemas(response_schemas)"
   ]
  },
  {
   "cell_type": "code",
   "execution_count": 157,
   "id": "9649f116",
   "metadata": {},
   "outputs": [],
   "source": [
    "format_instructions = output_parser.get_format_instructions()\n"
   ]
  },
  {
   "cell_type": "code",
   "execution_count": 158,
   "id": "d8950f7d",
   "metadata": {},
   "outputs": [
    {
     "name": "stdout",
     "output_type": "stream",
     "text": [
      "The output should be a markdown code snippet formatted in the following schema, including the leading and trailing \"```json\" and \"```\":\n",
      "\n",
      "```json\n",
      "{\n",
      "\t\"gift\": string  // Was the item purchased                             as a gift for someone else?                              Answer True if yes,                             False if not or unknown.\n",
      "\t\"delivery_days\": string  // How many days                                      did it take for the product                                      to arrive? If this                                       information is not found,                                      output -1.\n",
      "\t\"price_value\": string  // Extract any                                    sentences about the value or                                     price, and output them as a                                     comma separated Python list.\n",
      "}\n",
      "```\n"
     ]
    }
   ],
   "source": [
    "print(format_instructions)"
   ]
  },
  {
   "cell_type": "code",
   "execution_count": 159,
   "id": "7e090df3",
   "metadata": {},
   "outputs": [],
   "source": [
    "review_template_2 = \"\"\"\\\n",
    "For the following text, extract the following information:\n",
    "\n",
    "gift: Was the item purchased as a gift for someone else? \\\n",
    "Answer True if yes, False if not or unknown.\n",
    "\n",
    "delivery_days: How many days did it take for the product\\\n",
    "to arrive? If this information is not found, output -1.\n",
    "\n",
    "price_value: Extract any sentences about the value or price,\\\n",
    "and output them as a comma separated Python list.\n",
    "\n",
    "text: {text}\n",
    "\n",
    "{format_instructions}\n",
    "\"\"\"\n",
    "\n",
    "prompt = ChatPromptTemplate.from_template(template=review_template_2)\n",
    "\n",
    "messages = prompt.format_messages(text=customer_review, \n",
    "                                format_instructions=format_instructions)"
   ]
  },
  {
   "cell_type": "code",
   "execution_count": 160,
   "id": "26949bba",
   "metadata": {},
   "outputs": [
    {
     "name": "stdout",
     "output_type": "stream",
     "text": [
      "For the following text, extract the following information:\n",
      "\n",
      "gift: Was the item purchased as a gift for someone else? Answer True if yes, False if not or unknown.\n",
      "\n",
      "delivery_days: How many days did it take for the productto arrive? If this information is not found, output -1.\n",
      "\n",
      "price_value: Extract any sentences about the value or price,and output them as a comma separated Python list.\n",
      "\n",
      "text: This leaf blower is pretty amazing.  It has four settings:candle blower, gentle breeze, windy city, and tornado. It arrived in two days, just in time for my wife's anniversary present. I think my wife liked it so much she was speechless. So far I've been the only one using it, and I've been using it every other morning to clear the leaves on our lawn. It's slightly more expensive than the other leaf blowers out there, but I think it's worth it for the extra features.\n",
      "\n",
      "\n",
      "The output should be a markdown code snippet formatted in the following schema, including the leading and trailing \"```json\" and \"```\":\n",
      "\n",
      "```json\n",
      "{\n",
      "\t\"gift\": string  // Was the item purchased                             as a gift for someone else?                              Answer True if yes,                             False if not or unknown.\n",
      "\t\"delivery_days\": string  // How many days                                      did it take for the product                                      to arrive? If this                                       information is not found,                                      output -1.\n",
      "\t\"price_value\": string  // Extract any                                    sentences about the value or                                     price, and output them as a                                     comma separated Python list.\n",
      "}\n",
      "```\n",
      "\n"
     ]
    }
   ],
   "source": [
    "print(messages[0].content)"
   ]
  },
  {
   "cell_type": "code",
   "execution_count": 161,
   "id": "8f758ccf",
   "metadata": {},
   "outputs": [
    {
     "name": "stdout",
     "output_type": "stream",
     "text": [
      "stop\n",
      "ChatCompletionMessage(content='```json\\n{\\n\\t\"gift\": \"True\",\\n\\t\"delivery_days\": \"2\",\\n\\t\"price_value\": [\"It\\'s slightly more expensive than the other leaf blowers out there, but I think it\\'s worth it for the extra features.\"]\\n}\\n```', role='assistant', function_call=None, tool_calls=None)\n"
     ]
    }
   ],
   "source": [
    "review_response = client.chat.completions.create(\n",
    "    model=\"gpt-4-1106-preview\",  # Choose the appropriate engine for your needs\n",
    "    messages=[\n",
    "        {\"role\": \"system\", \"content\": \"You are an AI trained to assist with customer service inquiries.\"},\n",
    "        {\"role\": \"user\", \"content\": messages[0].content}\n",
    "    ])\n",
    "\n",
    "print(review_response.choices[0].finish_reason)\n",
    "print(review_response.choices[0].message)"
   ]
  },
  {
   "cell_type": "code",
   "execution_count": 162,
   "id": "b71548e7",
   "metadata": {},
   "outputs": [
    {
     "name": "stdout",
     "output_type": "stream",
     "text": [
      "```json\n",
      "{\n",
      "\t\"gift\": \"True\",\n",
      "\t\"delivery_days\": \"2\",\n",
      "\t\"price_value\": [\"It's slightly more expensive than the other leaf blowers out there, but I think it's worth it for the extra features.\"]\n",
      "}\n",
      "```\n"
     ]
    }
   ],
   "source": [
    "print(review_response.choices[0].message.content)"
   ]
  },
  {
   "cell_type": "code",
   "execution_count": 163,
   "id": "5b6b2ff3",
   "metadata": {},
   "outputs": [],
   "source": [
    "output_dict = output_parser.parse(review_response.choices[0].message.content)"
   ]
  },
  {
   "cell_type": "code",
   "execution_count": 164,
   "id": "a3d15384",
   "metadata": {},
   "outputs": [
    {
     "data": {
      "text/plain": [
       "{'gift': 'True',\n",
       " 'delivery_days': '2',\n",
       " 'price_value': [\"It's slightly more expensive than the other leaf blowers out there, but I think it's worth it for the extra features.\"]}"
      ]
     },
     "execution_count": 164,
     "metadata": {},
     "output_type": "execute_result"
    }
   ],
   "source": [
    "output_dict"
   ]
  },
  {
   "cell_type": "code",
   "execution_count": 165,
   "id": "27e98640",
   "metadata": {},
   "outputs": [
    {
     "data": {
      "text/plain": [
       "dict"
      ]
     },
     "execution_count": 165,
     "metadata": {},
     "output_type": "execute_result"
    }
   ],
   "source": [
    "type(output_dict)"
   ]
  },
  {
   "cell_type": "code",
   "execution_count": 169,
   "id": "f16b812b",
   "metadata": {},
   "outputs": [
    {
     "name": "stdout",
     "output_type": "stream",
     "text": [
      "2\n",
      "True\n",
      "[\"It's slightly more expensive than the other leaf blowers out there, but I think it's worth it for the extra features.\"]\n"
     ]
    }
   ],
   "source": [
    "print(output_dict.get('delivery_days'))\n",
    "print(output_dict.get('gift'))\n",
    "print(output_dict.get('price_value'))"
   ]
  }
 ],
 "metadata": {
  "kernelspec": {
   "display_name": "Python 3 (ipykernel)",
   "language": "python",
   "name": "python3"
  },
  "language_info": {
   "codemirror_mode": {
    "name": "ipython",
    "version": 3
   },
   "file_extension": ".py",
   "mimetype": "text/x-python",
   "name": "python",
   "nbconvert_exporter": "python",
   "pygments_lexer": "ipython3",
   "version": "3.11.8"
  }
 },
 "nbformat": 4,
 "nbformat_minor": 5
}
